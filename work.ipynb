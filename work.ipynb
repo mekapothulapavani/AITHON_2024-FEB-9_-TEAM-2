{
  "nbformat": 4,
  "nbformat_minor": 0,
  "metadata": {
    "colab": {
      "provenance": [],
      "authorship_tag": "ABX9TyPzzE0XCEedlQUk5u8kQP1n",
      "include_colab_link": true
    },
    "kernelspec": {
      "name": "python3",
      "display_name": "Python 3"
    },
    "language_info": {
      "name": "python"
    }
  },
  "cells": [
    {
      "cell_type": "markdown",
      "metadata": {
        "id": "view-in-github",
        "colab_type": "text"
      },
      "source": [
        "<a href=\"https://colab.research.google.com/github/mekapothulapavani/AITHON_2024-FEB-9_-TEAM-2/blob/main/work.ipynb\" target=\"_parent\"><img src=\"https://colab.research.google.com/assets/colab-badge.svg\" alt=\"Open In Colab\"/></a>"
      ]
    },
    {
      "cell_type": "code",
      "execution_count": 13,
      "metadata": {
        "colab": {
          "base_uri": "https://localhost:8080/"
        },
        "id": "uttwOlq0cC9R",
        "outputId": "8ac06dbb-d470-4bdb-dae8-562b48787842"
      },
      "outputs": [
        {
          "output_type": "stream",
          "name": "stdout",
          "text": [
            "enter a string:pavani\n",
            "enter a lettera\n",
            "2\n"
          ]
        }
      ],
      "source": [
        "n=str(input(\"enter a string:\"))\n",
        "b=str(input(\"enter a letter\"))\n",
        "c=n.count(b)\n",
        "print(c)"
      ]
    },
    {
      "cell_type": "code",
      "source": [
        "n=str(input(\"enter astring:\"))\n",
        "b=n[: :-1]\n",
        "print(b)"
      ],
      "metadata": {
        "colab": {
          "base_uri": "https://localhost:8080/"
        },
        "id": "fSCCuTIbepag",
        "outputId": "ae4b7aec-3a17-4ac3-ab83-b6caed6c4cf3"
      },
      "execution_count": 7,
      "outputs": [
        {
          "output_type": "stream",
          "name": "stdout",
          "text": [
            "enter astring:buddi\n",
            "iddub\n"
          ]
        }
      ]
    },
    {
      "cell_type": "code",
      "source": [
        "s=input(\"enter a string:\")\n",
        "b=s[: :-1]\n",
        "if s==b:\n",
        "  print(\"it is polindrome\")\n",
        "else:\n",
        "  print(\"not a polindrome\")\n",
        "\n"
      ],
      "metadata": {
        "colab": {
          "base_uri": "https://localhost:8080/"
        },
        "id": "064gCKN1hPoW",
        "outputId": "4a30f3f5-b802-4d7e-8808-723447658905"
      },
      "execution_count": 18,
      "outputs": [
        {
          "output_type": "stream",
          "name": "stdout",
          "text": [
            "enter a string:mom\n",
            "it is polindrome\n"
          ]
        }
      ]
    },
    {
      "cell_type": "code",
      "source": [
        "n=input(\"enter a string:\")\n",
        "b=n.upper()\n",
        "c=n.lower()\n",
        "d=n.title()\n",
        "print(b)\n",
        "print(c)\n",
        "print(d)"
      ],
      "metadata": {
        "colab": {
          "base_uri": "https://localhost:8080/"
        },
        "id": "LDnVFDYOoZpv",
        "outputId": "13a35920-abb4-45e0-dba3-a06df1b28c95"
      },
      "execution_count": 21,
      "outputs": [
        {
          "output_type": "stream",
          "name": "stdout",
          "text": [
            "enter a string:BUddi SILKY paVAni\n",
            "BUDDI SILKY PAVANI\n",
            "buddi silky pavani\n",
            "Buddi Silky Pavani\n"
          ]
        }
      ]
    },
    {
      "cell_type": "code",
      "source": [
        "n=input(\"enter a string:\")\n",
        "b=input(\"enter a sub string:\")\n",
        "c=input(\"enter replacing letters:\")\n",
        "d=n.replace(b,c)\n",
        "e=n.count(d)\n",
        "print(d)\n",
        "print(e)"
      ],
      "metadata": {
        "colab": {
          "base_uri": "https://localhost:8080/"
        },
        "id": "GPBQKooep_y1",
        "outputId": "1cd0e4e1-4dae-45b2-8d14-95bc7d159232"
      },
      "execution_count": 36,
      "outputs": [
        {
          "output_type": "stream",
          "name": "stdout",
          "text": [
            "enter a string:i am pavani from krishna i like dancing\n",
            "enter a sub string:krishna\n",
            "enter replacing letters:godavari\n",
            "i am pavani from godavari i like dancing\n",
            "0\n"
          ]
        }
      ]
    },
    {
      "cell_type": "code",
      "source": [
        "\n",
        "string = input(\"enter sring:\")\n",
        "substring =input(\"enter substring:\")\n",
        "s = string.split()\n",
        "if substring in s:\n",
        "    print(\"yes\")\n",
        "else:\n",
        "    print(\"no\")\n"
      ],
      "metadata": {
        "colab": {
          "base_uri": "https://localhost:8080/"
        },
        "id": "SvU-AEZtvI2o",
        "outputId": "5306a284-3bbe-4ed0-aed2-c8667a219c95"
      },
      "execution_count": 43,
      "outputs": [
        {
          "output_type": "stream",
          "name": "stdout",
          "text": [
            "enter sring:i am pavani from krishna\n",
            "enter substring:pavani\n",
            "yes\n"
          ]
        }
      ]
    },
    {
      "cell_type": "code",
      "source": [
        "n=input(\"enter a string\")\n",
        "b=n.split()\n",
        "print(b)\n",
        "\n"
      ],
      "metadata": {
        "colab": {
          "base_uri": "https://localhost:8080/"
        },
        "id": "cr_u8McI8YHK",
        "outputId": "355ea940-483c-4de8-c118-a82f1a0da66e"
      },
      "execution_count": 49,
      "outputs": [
        {
          "output_type": "stream",
          "name": "stdout",
          "text": [
            "enter a stringi am from krishna\n",
            "['i', 'am', 'from', 'krishna']\n"
          ]
        }
      ]
    },
    {
      "cell_type": "code",
      "source": [
        "n=input(\"enter a string:\")\n",
        "x=input(\"enter a letter:\")\n",
        "z=x.join(n)\n",
        "print(z)"
      ],
      "metadata": {
        "colab": {
          "base_uri": "https://localhost:8080/"
        },
        "id": "0b5sKpMB9wwj",
        "outputId": "53937537-eebe-425b-deb6-2e6d38aeddd3"
      },
      "execution_count": 50,
      "outputs": [
        {
          "output_type": "stream",
          "name": "stdout",
          "text": [
            "enter a string:pavani like mahesh babu\n",
            "enter a letter:@\n",
            "p@a@v@a@n@i@ @l@i@k@e@ @m@a@h@e@s@h@ @b@a@b@u\n"
          ]
        }
      ]
    },
    {
      "cell_type": "code",
      "source": [
        "a=input(\"enter a input:\")\n",
        "x=a.strip()\n",
        "print(\"i used to call my\",a,\"as pondu\")"
      ],
      "metadata": {
        "colab": {
          "base_uri": "https://localhost:8080/"
        },
        "id": "sPGriKnC-yDI",
        "outputId": "c44d841a-496d-434f-ed57-a3e10b5a55c0"
      },
      "execution_count": 51,
      "outputs": [
        {
          "output_type": "stream",
          "name": "stdout",
          "text": [
            "enter a input:mom\n",
            "i used to call my mom as pondu\n"
          ]
        }
      ]
    },
    {
      "cell_type": "code",
      "source": [
        "a=input(\"enter string:\")\n",
        "n=input(\"enter a prefix:\")\n",
        "p=input(\"enter suffix:\")\n",
        "print(\"starts with prefix\",a.startswith(n))\n",
        "print(\"starts with suffix\",a.endswith(p))\n"
      ],
      "metadata": {
        "colab": {
          "base_uri": "https://localhost:8080/"
        },
        "id": "bVXkHRM1_oVN",
        "outputId": "3168af4d-3cda-4f74-f870-ea8f89416a7b"
      },
      "execution_count": 52,
      "outputs": [
        {
          "output_type": "stream",
          "name": "stdout",
          "text": [
            "enter string:buddi\n",
            "enter a prefix:b\n",
            "enter suffix:i\n",
            "starts with prefix True\n",
            "starts with suffix True\n"
          ]
        }
      ]
    }
  ]
}